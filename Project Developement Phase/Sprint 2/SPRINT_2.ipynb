{
  "nbformat": 4,
  "nbformat_minor": 0,
  "metadata": {
    "colab": {
      "provenance": []
    },
    "kernelspec": {
      "name": "python3",
      "display_name": "Python 3"
    },
    "language_info": {
      "name": "python"
    }
  },
  "cells": [
    {
      "cell_type": "code",
      "execution_count": 1,
      "metadata": {
        "id": "bcKoE0DVsKi4"
      },
      "outputs": [],
      "source": [
        "import numpy as np\n",
        "import pandas as pd\n",
        "import matplotlib.pyplot as plt\n",
        "np.set_printoptions(suppress=True)\n",
        "import warnings\n",
        "warnings.filterwarnings('ignore')"
      ]
    },
    {
      "cell_type": "code",
      "source": [
        "train = pd.read_csv('train_data.csv')\n",
        "test = pd.read_csv('test_data.csv')"
      ],
      "metadata": {
        "id": "a5FasHZRsL2L"
      },
      "execution_count": 8,
      "outputs": []
    },
    {
      "cell_type": "code",
      "source": [
        "train.head()"
      ],
      "metadata": {
        "colab": {
          "base_uri": "https://localhost:8080/",
          "height": 409
        },
        "id": "LZDPVr0ZsS_t",
        "outputId": "10231297-3f94-491c-c6d6-1ea9e7735fa6"
      },
      "execution_count": 9,
      "outputs": [
        {
          "output_type": "execute_result",
          "data": {
            "text/plain": [
              "   case_id  Hospital_code Hospital_type_code  City_Code_Hospital  \\\n",
              "0        1              8                  c                   3   \n",
              "1        2              2                  c                   5   \n",
              "2        3             10                  e                   1   \n",
              "3        4             26                  b                   2   \n",
              "4        5             26                  b                   2   \n",
              "\n",
              "  Hospital_region_code  Available Extra Rooms in Hospital    Department  \\\n",
              "0                    Z                                  3  radiotherapy   \n",
              "1                    Z                                  2  radiotherapy   \n",
              "2                    X                                  2    anesthesia   \n",
              "3                    Y                                  2  radiotherapy   \n",
              "4                    Y                                  2  radiotherapy   \n",
              "\n",
              "  Ward_Type Ward_Facility_Code  Bed Grade  patientid  City_Code_Patient  \\\n",
              "0         R                  F        2.0      31397                7.0   \n",
              "1         S                  F        2.0      31397                7.0   \n",
              "2         S                  E        2.0      31397                7.0   \n",
              "3         R                  D        2.0      31397                7.0   \n",
              "4         S                  D        2.0      31397                7.0   \n",
              "\n",
              "  Type of Admission Severity of Illness  Visitors with Patient    Age  \\\n",
              "0         Emergency             Extreme                      2  51-60   \n",
              "1            Trauma             Extreme                      2  51-60   \n",
              "2            Trauma             Extreme                      2  51-60   \n",
              "3            Trauma             Extreme                      2  51-60   \n",
              "4            Trauma             Extreme                      2  51-60   \n",
              "\n",
              "   Admission_Deposit   Stay  \n",
              "0             4911.0   0-10  \n",
              "1             5954.0  41-50  \n",
              "2             4745.0  31-40  \n",
              "3             7272.0  41-50  \n",
              "4             5558.0  41-50  "
            ],
            "text/html": [
              "\n",
              "  <div id=\"df-917cd8ae-7506-4f01-b5d4-3cceb67976e7\">\n",
              "    <div class=\"colab-df-container\">\n",
              "      <div>\n",
              "<style scoped>\n",
              "    .dataframe tbody tr th:only-of-type {\n",
              "        vertical-align: middle;\n",
              "    }\n",
              "\n",
              "    .dataframe tbody tr th {\n",
              "        vertical-align: top;\n",
              "    }\n",
              "\n",
              "    .dataframe thead th {\n",
              "        text-align: right;\n",
              "    }\n",
              "</style>\n",
              "<table border=\"1\" class=\"dataframe\">\n",
              "  <thead>\n",
              "    <tr style=\"text-align: right;\">\n",
              "      <th></th>\n",
              "      <th>case_id</th>\n",
              "      <th>Hospital_code</th>\n",
              "      <th>Hospital_type_code</th>\n",
              "      <th>City_Code_Hospital</th>\n",
              "      <th>Hospital_region_code</th>\n",
              "      <th>Available Extra Rooms in Hospital</th>\n",
              "      <th>Department</th>\n",
              "      <th>Ward_Type</th>\n",
              "      <th>Ward_Facility_Code</th>\n",
              "      <th>Bed Grade</th>\n",
              "      <th>patientid</th>\n",
              "      <th>City_Code_Patient</th>\n",
              "      <th>Type of Admission</th>\n",
              "      <th>Severity of Illness</th>\n",
              "      <th>Visitors with Patient</th>\n",
              "      <th>Age</th>\n",
              "      <th>Admission_Deposit</th>\n",
              "      <th>Stay</th>\n",
              "    </tr>\n",
              "  </thead>\n",
              "  <tbody>\n",
              "    <tr>\n",
              "      <th>0</th>\n",
              "      <td>1</td>\n",
              "      <td>8</td>\n",
              "      <td>c</td>\n",
              "      <td>3</td>\n",
              "      <td>Z</td>\n",
              "      <td>3</td>\n",
              "      <td>radiotherapy</td>\n",
              "      <td>R</td>\n",
              "      <td>F</td>\n",
              "      <td>2.0</td>\n",
              "      <td>31397</td>\n",
              "      <td>7.0</td>\n",
              "      <td>Emergency</td>\n",
              "      <td>Extreme</td>\n",
              "      <td>2</td>\n",
              "      <td>51-60</td>\n",
              "      <td>4911.0</td>\n",
              "      <td>0-10</td>\n",
              "    </tr>\n",
              "    <tr>\n",
              "      <th>1</th>\n",
              "      <td>2</td>\n",
              "      <td>2</td>\n",
              "      <td>c</td>\n",
              "      <td>5</td>\n",
              "      <td>Z</td>\n",
              "      <td>2</td>\n",
              "      <td>radiotherapy</td>\n",
              "      <td>S</td>\n",
              "      <td>F</td>\n",
              "      <td>2.0</td>\n",
              "      <td>31397</td>\n",
              "      <td>7.0</td>\n",
              "      <td>Trauma</td>\n",
              "      <td>Extreme</td>\n",
              "      <td>2</td>\n",
              "      <td>51-60</td>\n",
              "      <td>5954.0</td>\n",
              "      <td>41-50</td>\n",
              "    </tr>\n",
              "    <tr>\n",
              "      <th>2</th>\n",
              "      <td>3</td>\n",
              "      <td>10</td>\n",
              "      <td>e</td>\n",
              "      <td>1</td>\n",
              "      <td>X</td>\n",
              "      <td>2</td>\n",
              "      <td>anesthesia</td>\n",
              "      <td>S</td>\n",
              "      <td>E</td>\n",
              "      <td>2.0</td>\n",
              "      <td>31397</td>\n",
              "      <td>7.0</td>\n",
              "      <td>Trauma</td>\n",
              "      <td>Extreme</td>\n",
              "      <td>2</td>\n",
              "      <td>51-60</td>\n",
              "      <td>4745.0</td>\n",
              "      <td>31-40</td>\n",
              "    </tr>\n",
              "    <tr>\n",
              "      <th>3</th>\n",
              "      <td>4</td>\n",
              "      <td>26</td>\n",
              "      <td>b</td>\n",
              "      <td>2</td>\n",
              "      <td>Y</td>\n",
              "      <td>2</td>\n",
              "      <td>radiotherapy</td>\n",
              "      <td>R</td>\n",
              "      <td>D</td>\n",
              "      <td>2.0</td>\n",
              "      <td>31397</td>\n",
              "      <td>7.0</td>\n",
              "      <td>Trauma</td>\n",
              "      <td>Extreme</td>\n",
              "      <td>2</td>\n",
              "      <td>51-60</td>\n",
              "      <td>7272.0</td>\n",
              "      <td>41-50</td>\n",
              "    </tr>\n",
              "    <tr>\n",
              "      <th>4</th>\n",
              "      <td>5</td>\n",
              "      <td>26</td>\n",
              "      <td>b</td>\n",
              "      <td>2</td>\n",
              "      <td>Y</td>\n",
              "      <td>2</td>\n",
              "      <td>radiotherapy</td>\n",
              "      <td>S</td>\n",
              "      <td>D</td>\n",
              "      <td>2.0</td>\n",
              "      <td>31397</td>\n",
              "      <td>7.0</td>\n",
              "      <td>Trauma</td>\n",
              "      <td>Extreme</td>\n",
              "      <td>2</td>\n",
              "      <td>51-60</td>\n",
              "      <td>5558.0</td>\n",
              "      <td>41-50</td>\n",
              "    </tr>\n",
              "  </tbody>\n",
              "</table>\n",
              "</div>\n",
              "      <button class=\"colab-df-convert\" onclick=\"convertToInteractive('df-917cd8ae-7506-4f01-b5d4-3cceb67976e7')\"\n",
              "              title=\"Convert this dataframe to an interactive table.\"\n",
              "              style=\"display:none;\">\n",
              "        \n",
              "  <svg xmlns=\"http://www.w3.org/2000/svg\" height=\"24px\"viewBox=\"0 0 24 24\"\n",
              "       width=\"24px\">\n",
              "    <path d=\"M0 0h24v24H0V0z\" fill=\"none\"/>\n",
              "    <path d=\"M18.56 5.44l.94 2.06.94-2.06 2.06-.94-2.06-.94-.94-2.06-.94 2.06-2.06.94zm-11 1L8.5 8.5l.94-2.06 2.06-.94-2.06-.94L8.5 2.5l-.94 2.06-2.06.94zm10 10l.94 2.06.94-2.06 2.06-.94-2.06-.94-.94-2.06-.94 2.06-2.06.94z\"/><path d=\"M17.41 7.96l-1.37-1.37c-.4-.4-.92-.59-1.43-.59-.52 0-1.04.2-1.43.59L10.3 9.45l-7.72 7.72c-.78.78-.78 2.05 0 2.83L4 21.41c.39.39.9.59 1.41.59.51 0 1.02-.2 1.41-.59l7.78-7.78 2.81-2.81c.8-.78.8-2.07 0-2.86zM5.41 20L4 18.59l7.72-7.72 1.47 1.35L5.41 20z\"/>\n",
              "  </svg>\n",
              "      </button>\n",
              "      \n",
              "  <style>\n",
              "    .colab-df-container {\n",
              "      display:flex;\n",
              "      flex-wrap:wrap;\n",
              "      gap: 12px;\n",
              "    }\n",
              "\n",
              "    .colab-df-convert {\n",
              "      background-color: #E8F0FE;\n",
              "      border: none;\n",
              "      border-radius: 50%;\n",
              "      cursor: pointer;\n",
              "      display: none;\n",
              "      fill: #1967D2;\n",
              "      height: 32px;\n",
              "      padding: 0 0 0 0;\n",
              "      width: 32px;\n",
              "    }\n",
              "\n",
              "    .colab-df-convert:hover {\n",
              "      background-color: #E2EBFA;\n",
              "      box-shadow: 0px 1px 2px rgba(60, 64, 67, 0.3), 0px 1px 3px 1px rgba(60, 64, 67, 0.15);\n",
              "      fill: #174EA6;\n",
              "    }\n",
              "\n",
              "    [theme=dark] .colab-df-convert {\n",
              "      background-color: #3B4455;\n",
              "      fill: #D2E3FC;\n",
              "    }\n",
              "\n",
              "    [theme=dark] .colab-df-convert:hover {\n",
              "      background-color: #434B5C;\n",
              "      box-shadow: 0px 1px 3px 1px rgba(0, 0, 0, 0.15);\n",
              "      filter: drop-shadow(0px 1px 2px rgba(0, 0, 0, 0.3));\n",
              "      fill: #FFFFFF;\n",
              "    }\n",
              "  </style>\n",
              "\n",
              "      <script>\n",
              "        const buttonEl =\n",
              "          document.querySelector('#df-917cd8ae-7506-4f01-b5d4-3cceb67976e7 button.colab-df-convert');\n",
              "        buttonEl.style.display =\n",
              "          google.colab.kernel.accessAllowed ? 'block' : 'none';\n",
              "\n",
              "        async function convertToInteractive(key) {\n",
              "          const element = document.querySelector('#df-917cd8ae-7506-4f01-b5d4-3cceb67976e7');\n",
              "          const dataTable =\n",
              "            await google.colab.kernel.invokeFunction('convertToInteractive',\n",
              "                                                     [key], {});\n",
              "          if (!dataTable) return;\n",
              "\n",
              "          const docLinkHtml = 'Like what you see? Visit the ' +\n",
              "            '<a target=\"_blank\" href=https://colab.research.google.com/notebooks/data_table.ipynb>data table notebook</a>'\n",
              "            + ' to learn more about interactive tables.';\n",
              "          element.innerHTML = '';\n",
              "          dataTable['output_type'] = 'display_data';\n",
              "          await google.colab.output.renderOutput(dataTable, element);\n",
              "          const docLink = document.createElement('div');\n",
              "          docLink.innerHTML = docLinkHtml;\n",
              "          element.appendChild(docLink);\n",
              "        }\n",
              "      </script>\n",
              "    </div>\n",
              "  </div>\n",
              "  "
            ]
          },
          "metadata": {},
          "execution_count": 9
        }
      ]
    },
    {
      "cell_type": "code",
      "source": [
        "train.info()\n",
        "train.Stay.unique()"
      ],
      "metadata": {
        "colab": {
          "base_uri": "https://localhost:8080/"
        },
        "id": "j4y-WFKgs51_",
        "outputId": "7434dbaf-649a-446d-a4e6-88b773b77b57"
      },
      "execution_count": 10,
      "outputs": [
        {
          "output_type": "stream",
          "name": "stdout",
          "text": [
            "<class 'pandas.core.frame.DataFrame'>\n",
            "RangeIndex: 318438 entries, 0 to 318437\n",
            "Data columns (total 18 columns):\n",
            " #   Column                             Non-Null Count   Dtype  \n",
            "---  ------                             --------------   -----  \n",
            " 0   case_id                            318438 non-null  int64  \n",
            " 1   Hospital_code                      318438 non-null  int64  \n",
            " 2   Hospital_type_code                 318438 non-null  object \n",
            " 3   City_Code_Hospital                 318438 non-null  int64  \n",
            " 4   Hospital_region_code               318438 non-null  object \n",
            " 5   Available Extra Rooms in Hospital  318438 non-null  int64  \n",
            " 6   Department                         318438 non-null  object \n",
            " 7   Ward_Type                          318438 non-null  object \n",
            " 8   Ward_Facility_Code                 318438 non-null  object \n",
            " 9   Bed Grade                          318325 non-null  float64\n",
            " 10  patientid                          318438 non-null  int64  \n",
            " 11  City_Code_Patient                  313906 non-null  float64\n",
            " 12  Type of Admission                  318438 non-null  object \n",
            " 13  Severity of Illness                318438 non-null  object \n",
            " 14  Visitors with Patient              318438 non-null  int64  \n",
            " 15  Age                                318438 non-null  object \n",
            " 16  Admission_Deposit                  318438 non-null  float64\n",
            " 17  Stay                               318438 non-null  object \n",
            "dtypes: float64(3), int64(6), object(9)\n",
            "memory usage: 43.7+ MB\n"
          ]
        },
        {
          "output_type": "execute_result",
          "data": {
            "text/plain": [
              "array(['0-10', '41-50', '31-40', '11-20', '51-60', '21-30', '71-80',\n",
              "       'More than 100 Days', '81-90', '61-70', '91-100'], dtype=object)"
            ]
          },
          "metadata": {},
          "execution_count": 10
        }
      ]
    },
    {
      "cell_type": "code",
      "source": [
        "train.isnull().sum().sort_values(ascending = False)"
      ],
      "metadata": {
        "colab": {
          "base_uri": "https://localhost:8080/"
        },
        "id": "I_N59NgTtCGI",
        "outputId": "98f20350-bd7f-478a-bef1-a9a9a6b648ad"
      },
      "execution_count": 11,
      "outputs": [
        {
          "output_type": "execute_result",
          "data": {
            "text/plain": [
              "City_Code_Patient                    4532\n",
              "Bed Grade                             113\n",
              "Hospital_code                           0\n",
              "Admission_Deposit                       0\n",
              "Age                                     0\n",
              "Visitors with Patient                   0\n",
              "Severity of Illness                     0\n",
              "Type of Admission                       0\n",
              "patientid                               0\n",
              "case_id                                 0\n",
              "Ward_Facility_Code                      0\n",
              "Ward_Type                               0\n",
              "Department                              0\n",
              "Available Extra Rooms in Hospital       0\n",
              "Hospital_region_code                    0\n",
              "City_Code_Hospital                      0\n",
              "Hospital_type_code                      0\n",
              "Stay                                    0\n",
              "dtype: int64"
            ]
          },
          "metadata": {},
          "execution_count": 11
        }
      ]
    },
    {
      "cell_type": "code",
      "source": [
        "test.isnull().sum().sort_values(ascending = False)"
      ],
      "metadata": {
        "colab": {
          "base_uri": "https://localhost:8080/"
        },
        "id": "3yChgrW3tM3F",
        "outputId": "1539a3b1-42ae-4c5b-d580-86aba6d3352e"
      },
      "execution_count": 12,
      "outputs": [
        {
          "output_type": "execute_result",
          "data": {
            "text/plain": [
              "City_Code_Patient                    1092\n",
              "Bed Grade                              22\n",
              "Admission_Deposit                       1\n",
              "Age                                     1\n",
              "Visitors with Patient                   1\n",
              "Severity of Illness                     1\n",
              "Type of Admission                       1\n",
              "patientid                               1\n",
              "case_id                                 0\n",
              "Hospital_code                           0\n",
              "Ward_Type                               0\n",
              "Department                              0\n",
              "Available Extra Rooms in Hospital       0\n",
              "Hospital_region_code                    0\n",
              "City_Code_Hospital                      0\n",
              "Hospital_type_code                      0\n",
              "Ward_Facility_Code                      0\n",
              "dtype: int64"
            ]
          },
          "metadata": {},
          "execution_count": 12
        }
      ]
    },
    {
      "cell_type": "code",
      "source": [
        "train.shape"
      ],
      "metadata": {
        "colab": {
          "base_uri": "https://localhost:8080/"
        },
        "id": "x8ugHlK4tQEX",
        "outputId": "af620867-aac7-4622-c726-de40b276f6cf"
      },
      "execution_count": 13,
      "outputs": [
        {
          "output_type": "execute_result",
          "data": {
            "text/plain": [
              "(318438, 18)"
            ]
          },
          "metadata": {},
          "execution_count": 13
        }
      ]
    },
    {
      "cell_type": "code",
      "source": [
        "test.shape"
      ],
      "metadata": {
        "colab": {
          "base_uri": "https://localhost:8080/"
        },
        "id": "TmuZ78wStVXh",
        "outputId": "3107f057-32de-48b2-9c51-b1722664e65f"
      },
      "execution_count": 14,
      "outputs": [
        {
          "output_type": "execute_result",
          "data": {
            "text/plain": [
              "(79820, 17)"
            ]
          },
          "metadata": {},
          "execution_count": 14
        }
      ]
    },
    {
      "cell_type": "code",
      "source": [
        "for i in train.columns:\n",
        "    print(i, ':', train[i].nunique())"
      ],
      "metadata": {
        "colab": {
          "base_uri": "https://localhost:8080/"
        },
        "id": "m2K4lvputaGb",
        "outputId": "4d43dd11-dc2b-4f84-ffec-0dd7939a0e35"
      },
      "execution_count": 15,
      "outputs": [
        {
          "output_type": "stream",
          "name": "stdout",
          "text": [
            "case_id : 318438\n",
            "Hospital_code : 32\n",
            "Hospital_type_code : 7\n",
            "City_Code_Hospital : 11\n",
            "Hospital_region_code : 3\n",
            "Available Extra Rooms in Hospital : 18\n",
            "Department : 5\n",
            "Ward_Type : 6\n",
            "Ward_Facility_Code : 6\n",
            "Bed Grade : 4\n",
            "patientid : 92017\n",
            "City_Code_Patient : 37\n",
            "Type of Admission : 3\n",
            "Severity of Illness : 3\n",
            "Visitors with Patient : 28\n",
            "Age : 10\n",
            "Admission_Deposit : 7300\n",
            "Stay : 11\n"
          ]
        }
      ]
    },
    {
      "cell_type": "code",
      "source": [
        "for i in test.columns:\n",
        "    print(i, ':', test[i].nunique())"
      ],
      "metadata": {
        "colab": {
          "base_uri": "https://localhost:8080/"
        },
        "id": "ndsy3ypMtdLC",
        "outputId": "67f5f436-f0b8-47b7-cf2b-9fe55a273d02"
      },
      "execution_count": 16,
      "outputs": [
        {
          "output_type": "stream",
          "name": "stdout",
          "text": [
            "case_id : 79820\n",
            "Hospital_code : 32\n",
            "Hospital_type_code : 7\n",
            "City_Code_Hospital : 11\n",
            "Hospital_region_code : 3\n",
            "Available Extra Rooms in Hospital : 14\n",
            "Department : 5\n",
            "Ward_Type : 6\n",
            "Ward_Facility_Code : 6\n",
            "Bed Grade : 4\n",
            "patientid : 17938\n",
            "City_Code_Patient : 36\n",
            "Type of Admission : 3\n",
            "Severity of Illness : 3\n",
            "Visitors with Patient : 27\n",
            "Age : 10\n",
            "Admission_Deposit : 6053\n"
          ]
        }
      ]
    },
    {
      "cell_type": "code",
      "source": [
        "#Replacing NA values in Bed Grade Column for both Train and Test datssets\n",
        "train['Bed Grade'].fillna(train['Bed Grade'].mode()[0], inplace = True)\n",
        "test['Bed Grade'].fillna(test['Bed Grade'].mode()[0], inplace = True)"
      ],
      "metadata": {
        "id": "Q4U8VxOJtgg-"
      },
      "execution_count": 17,
      "outputs": []
    },
    {
      "cell_type": "code",
      "source": [
        "#Replacing NA values in  City_Code_Patient Column for both Train and Test datssets\n",
        "train['City_Code_Patient'].fillna(train['City_Code_Patient'].mode()[0], inplace = True)\n",
        "test['City_Code_Patient'].fillna(test['City_Code_Patient'].mode()[0], inplace = True)"
      ],
      "metadata": {
        "id": "N9OMxtbKti0O"
      },
      "execution_count": 18,
      "outputs": []
    },
    {
      "cell_type": "code",
      "source": [
        "from sklearn.preprocessing import LabelEncoder\n",
        "le = LabelEncoder()\n",
        "train['Stay'] = le.fit_transform(train['Stay'].astype('str'))"
      ],
      "metadata": {
        "id": "O0obcUQEtlhQ"
      },
      "execution_count": 19,
      "outputs": []
    },
    {
      "cell_type": "code",
      "source": [
        "test['Stay'] = -1\n",
        "df = pd.concat([train, test])\n",
        "df.shape"
      ],
      "metadata": {
        "colab": {
          "base_uri": "https://localhost:8080/"
        },
        "id": "UK4Sfpj0tpXz",
        "outputId": "a772db15-5b6c-4c1b-ff73-ec16b817f54e"
      },
      "execution_count": 20,
      "outputs": [
        {
          "output_type": "execute_result",
          "data": {
            "text/plain": [
              "(398258, 18)"
            ]
          },
          "metadata": {},
          "execution_count": 20
        }
      ]
    },
    {
      "cell_type": "code",
      "source": [
        "#Label Encoding all the columns in Train and test datasets\n",
        "for i in ['Hospital_type_code', 'Hospital_region_code', 'Department',\n",
        "          'Ward_Type', 'Ward_Facility_Code', 'Type of Admission', 'Severity of Illness', 'Age']:\n",
        "    le = LabelEncoder()\n",
        "    df[i] = le.fit_transform(df[i].astype(str))"
      ],
      "metadata": {
        "id": "5mftTcJStuM3"
      },
      "execution_count": 21,
      "outputs": []
    },
    {
      "cell_type": "code",
      "source": [
        "#Separating Train and Test Datasets\n",
        "train = df[df['Stay']!=-1]\n",
        "test = df[df['Stay']==-1]"
      ],
      "metadata": {
        "id": "zWQKe4dbtzi2"
      },
      "execution_count": 22,
      "outputs": []
    },
    {
      "cell_type": "code",
      "source": [
        "train.head()"
      ],
      "metadata": {
        "colab": {
          "base_uri": "https://localhost:8080/",
          "height": 322
        },
        "id": "4UQ9pmP2t3Gg",
        "outputId": "fd051553-6f68-49f5-9b2e-e6c64d6ab996"
      },
      "execution_count": 23,
      "outputs": [
        {
          "output_type": "execute_result",
          "data": {
            "text/plain": [
              "   case_id  Hospital_code  Hospital_type_code  City_Code_Hospital  \\\n",
              "0        1              8                   2                   3   \n",
              "1        2              2                   2                   5   \n",
              "2        3             10                   4                   1   \n",
              "3        4             26                   1                   2   \n",
              "4        5             26                   1                   2   \n",
              "\n",
              "   Hospital_region_code  Available Extra Rooms in Hospital  Department  \\\n",
              "0                     2                                  3           3   \n",
              "1                     2                                  2           3   \n",
              "2                     0                                  2           1   \n",
              "3                     1                                  2           3   \n",
              "4                     1                                  2           3   \n",
              "\n",
              "   Ward_Type  Ward_Facility_Code  Bed Grade  patientid  City_Code_Patient  \\\n",
              "0          2                   5        2.0    31397.0                7.0   \n",
              "1          3                   5        2.0    31397.0                7.0   \n",
              "2          3                   4        2.0    31397.0                7.0   \n",
              "3          2                   3        2.0    31397.0                7.0   \n",
              "4          3                   3        2.0    31397.0                7.0   \n",
              "\n",
              "   Type of Admission  Severity of Illness  Visitors with Patient  Age  \\\n",
              "0                  0                    0                    2.0    5   \n",
              "1                  1                    0                    2.0    5   \n",
              "2                  1                    0                    2.0    5   \n",
              "3                  1                    0                    2.0    5   \n",
              "4                  1                    0                    2.0    5   \n",
              "\n",
              "   Admission_Deposit  Stay  \n",
              "0             4911.0     0  \n",
              "1             5954.0     4  \n",
              "2             4745.0     3  \n",
              "3             7272.0     4  \n",
              "4             5558.0     4  "
            ],
            "text/html": [
              "\n",
              "  <div id=\"df-151b844e-e664-4352-ad5a-67b8fca4ad41\">\n",
              "    <div class=\"colab-df-container\">\n",
              "      <div>\n",
              "<style scoped>\n",
              "    .dataframe tbody tr th:only-of-type {\n",
              "        vertical-align: middle;\n",
              "    }\n",
              "\n",
              "    .dataframe tbody tr th {\n",
              "        vertical-align: top;\n",
              "    }\n",
              "\n",
              "    .dataframe thead th {\n",
              "        text-align: right;\n",
              "    }\n",
              "</style>\n",
              "<table border=\"1\" class=\"dataframe\">\n",
              "  <thead>\n",
              "    <tr style=\"text-align: right;\">\n",
              "      <th></th>\n",
              "      <th>case_id</th>\n",
              "      <th>Hospital_code</th>\n",
              "      <th>Hospital_type_code</th>\n",
              "      <th>City_Code_Hospital</th>\n",
              "      <th>Hospital_region_code</th>\n",
              "      <th>Available Extra Rooms in Hospital</th>\n",
              "      <th>Department</th>\n",
              "      <th>Ward_Type</th>\n",
              "      <th>Ward_Facility_Code</th>\n",
              "      <th>Bed Grade</th>\n",
              "      <th>patientid</th>\n",
              "      <th>City_Code_Patient</th>\n",
              "      <th>Type of Admission</th>\n",
              "      <th>Severity of Illness</th>\n",
              "      <th>Visitors with Patient</th>\n",
              "      <th>Age</th>\n",
              "      <th>Admission_Deposit</th>\n",
              "      <th>Stay</th>\n",
              "    </tr>\n",
              "  </thead>\n",
              "  <tbody>\n",
              "    <tr>\n",
              "      <th>0</th>\n",
              "      <td>1</td>\n",
              "      <td>8</td>\n",
              "      <td>2</td>\n",
              "      <td>3</td>\n",
              "      <td>2</td>\n",
              "      <td>3</td>\n",
              "      <td>3</td>\n",
              "      <td>2</td>\n",
              "      <td>5</td>\n",
              "      <td>2.0</td>\n",
              "      <td>31397.0</td>\n",
              "      <td>7.0</td>\n",
              "      <td>0</td>\n",
              "      <td>0</td>\n",
              "      <td>2.0</td>\n",
              "      <td>5</td>\n",
              "      <td>4911.0</td>\n",
              "      <td>0</td>\n",
              "    </tr>\n",
              "    <tr>\n",
              "      <th>1</th>\n",
              "      <td>2</td>\n",
              "      <td>2</td>\n",
              "      <td>2</td>\n",
              "      <td>5</td>\n",
              "      <td>2</td>\n",
              "      <td>2</td>\n",
              "      <td>3</td>\n",
              "      <td>3</td>\n",
              "      <td>5</td>\n",
              "      <td>2.0</td>\n",
              "      <td>31397.0</td>\n",
              "      <td>7.0</td>\n",
              "      <td>1</td>\n",
              "      <td>0</td>\n",
              "      <td>2.0</td>\n",
              "      <td>5</td>\n",
              "      <td>5954.0</td>\n",
              "      <td>4</td>\n",
              "    </tr>\n",
              "    <tr>\n",
              "      <th>2</th>\n",
              "      <td>3</td>\n",
              "      <td>10</td>\n",
              "      <td>4</td>\n",
              "      <td>1</td>\n",
              "      <td>0</td>\n",
              "      <td>2</td>\n",
              "      <td>1</td>\n",
              "      <td>3</td>\n",
              "      <td>4</td>\n",
              "      <td>2.0</td>\n",
              "      <td>31397.0</td>\n",
              "      <td>7.0</td>\n",
              "      <td>1</td>\n",
              "      <td>0</td>\n",
              "      <td>2.0</td>\n",
              "      <td>5</td>\n",
              "      <td>4745.0</td>\n",
              "      <td>3</td>\n",
              "    </tr>\n",
              "    <tr>\n",
              "      <th>3</th>\n",
              "      <td>4</td>\n",
              "      <td>26</td>\n",
              "      <td>1</td>\n",
              "      <td>2</td>\n",
              "      <td>1</td>\n",
              "      <td>2</td>\n",
              "      <td>3</td>\n",
              "      <td>2</td>\n",
              "      <td>3</td>\n",
              "      <td>2.0</td>\n",
              "      <td>31397.0</td>\n",
              "      <td>7.0</td>\n",
              "      <td>1</td>\n",
              "      <td>0</td>\n",
              "      <td>2.0</td>\n",
              "      <td>5</td>\n",
              "      <td>7272.0</td>\n",
              "      <td>4</td>\n",
              "    </tr>\n",
              "    <tr>\n",
              "      <th>4</th>\n",
              "      <td>5</td>\n",
              "      <td>26</td>\n",
              "      <td>1</td>\n",
              "      <td>2</td>\n",
              "      <td>1</td>\n",
              "      <td>2</td>\n",
              "      <td>3</td>\n",
              "      <td>3</td>\n",
              "      <td>3</td>\n",
              "      <td>2.0</td>\n",
              "      <td>31397.0</td>\n",
              "      <td>7.0</td>\n",
              "      <td>1</td>\n",
              "      <td>0</td>\n",
              "      <td>2.0</td>\n",
              "      <td>5</td>\n",
              "      <td>5558.0</td>\n",
              "      <td>4</td>\n",
              "    </tr>\n",
              "  </tbody>\n",
              "</table>\n",
              "</div>\n",
              "      <button class=\"colab-df-convert\" onclick=\"convertToInteractive('df-151b844e-e664-4352-ad5a-67b8fca4ad41')\"\n",
              "              title=\"Convert this dataframe to an interactive table.\"\n",
              "              style=\"display:none;\">\n",
              "        \n",
              "  <svg xmlns=\"http://www.w3.org/2000/svg\" height=\"24px\"viewBox=\"0 0 24 24\"\n",
              "       width=\"24px\">\n",
              "    <path d=\"M0 0h24v24H0V0z\" fill=\"none\"/>\n",
              "    <path d=\"M18.56 5.44l.94 2.06.94-2.06 2.06-.94-2.06-.94-.94-2.06-.94 2.06-2.06.94zm-11 1L8.5 8.5l.94-2.06 2.06-.94-2.06-.94L8.5 2.5l-.94 2.06-2.06.94zm10 10l.94 2.06.94-2.06 2.06-.94-2.06-.94-.94-2.06-.94 2.06-2.06.94z\"/><path d=\"M17.41 7.96l-1.37-1.37c-.4-.4-.92-.59-1.43-.59-.52 0-1.04.2-1.43.59L10.3 9.45l-7.72 7.72c-.78.78-.78 2.05 0 2.83L4 21.41c.39.39.9.59 1.41.59.51 0 1.02-.2 1.41-.59l7.78-7.78 2.81-2.81c.8-.78.8-2.07 0-2.86zM5.41 20L4 18.59l7.72-7.72 1.47 1.35L5.41 20z\"/>\n",
              "  </svg>\n",
              "      </button>\n",
              "      \n",
              "  <style>\n",
              "    .colab-df-container {\n",
              "      display:flex;\n",
              "      flex-wrap:wrap;\n",
              "      gap: 12px;\n",
              "    }\n",
              "\n",
              "    .colab-df-convert {\n",
              "      background-color: #E8F0FE;\n",
              "      border: none;\n",
              "      border-radius: 50%;\n",
              "      cursor: pointer;\n",
              "      display: none;\n",
              "      fill: #1967D2;\n",
              "      height: 32px;\n",
              "      padding: 0 0 0 0;\n",
              "      width: 32px;\n",
              "    }\n",
              "\n",
              "    .colab-df-convert:hover {\n",
              "      background-color: #E2EBFA;\n",
              "      box-shadow: 0px 1px 2px rgba(60, 64, 67, 0.3), 0px 1px 3px 1px rgba(60, 64, 67, 0.15);\n",
              "      fill: #174EA6;\n",
              "    }\n",
              "\n",
              "    [theme=dark] .colab-df-convert {\n",
              "      background-color: #3B4455;\n",
              "      fill: #D2E3FC;\n",
              "    }\n",
              "\n",
              "    [theme=dark] .colab-df-convert:hover {\n",
              "      background-color: #434B5C;\n",
              "      box-shadow: 0px 1px 3px 1px rgba(0, 0, 0, 0.15);\n",
              "      filter: drop-shadow(0px 1px 2px rgba(0, 0, 0, 0.3));\n",
              "      fill: #FFFFFF;\n",
              "    }\n",
              "  </style>\n",
              "\n",
              "      <script>\n",
              "        const buttonEl =\n",
              "          document.querySelector('#df-151b844e-e664-4352-ad5a-67b8fca4ad41 button.colab-df-convert');\n",
              "        buttonEl.style.display =\n",
              "          google.colab.kernel.accessAllowed ? 'block' : 'none';\n",
              "\n",
              "        async function convertToInteractive(key) {\n",
              "          const element = document.querySelector('#df-151b844e-e664-4352-ad5a-67b8fca4ad41');\n",
              "          const dataTable =\n",
              "            await google.colab.kernel.invokeFunction('convertToInteractive',\n",
              "                                                     [key], {});\n",
              "          if (!dataTable) return;\n",
              "\n",
              "          const docLinkHtml = 'Like what you see? Visit the ' +\n",
              "            '<a target=\"_blank\" href=https://colab.research.google.com/notebooks/data_table.ipynb>data table notebook</a>'\n",
              "            + ' to learn more about interactive tables.';\n",
              "          element.innerHTML = '';\n",
              "          dataTable['output_type'] = 'display_data';\n",
              "          await google.colab.output.renderOutput(dataTable, element);\n",
              "          const docLink = document.createElement('div');\n",
              "          docLink.innerHTML = docLinkHtml;\n",
              "          element.appendChild(docLink);\n",
              "        }\n",
              "      </script>\n",
              "    </div>\n",
              "  </div>\n",
              "  "
            ]
          },
          "metadata": {},
          "execution_count": 23
        }
      ]
    },
    {
      "cell_type": "code",
      "source": [
        "test.head()"
      ],
      "metadata": {
        "colab": {
          "base_uri": "https://localhost:8080/",
          "height": 322
        },
        "id": "VokQFd5pt3ld",
        "outputId": "c89ccc34-9331-41f2-8e9d-068ffc7ee557"
      },
      "execution_count": 24,
      "outputs": [
        {
          "output_type": "execute_result",
          "data": {
            "text/plain": [
              "   case_id  Hospital_code  Hospital_type_code  City_Code_Hospital  \\\n",
              "0   318439             21                   2                   3   \n",
              "1   318440             29                   0                   4   \n",
              "2   318441             26                   1                   2   \n",
              "3   318442              6                   0                   6   \n",
              "4   318443             28                   1                  11   \n",
              "\n",
              "   Hospital_region_code  Available Extra Rooms in Hospital  Department  \\\n",
              "0                     2                                  3           2   \n",
              "1                     0                                  2           2   \n",
              "2                     1                                  3           2   \n",
              "3                     0                                  3           2   \n",
              "4                     0                                  2           2   \n",
              "\n",
              "   Ward_Type  Ward_Facility_Code  Bed Grade  patientid  City_Code_Patient  \\\n",
              "0          3                   0        2.0    17006.0                2.0   \n",
              "1          3                   5        2.0    17006.0                2.0   \n",
              "2          1                   3        4.0    17006.0                2.0   \n",
              "3          1                   5        2.0    17006.0                2.0   \n",
              "4          2                   5        2.0    17006.0                2.0   \n",
              "\n",
              "   Type of Admission  Severity of Illness  Visitors with Patient  Age  \\\n",
              "0                  0                    2                    2.0    7   \n",
              "1                  1                    2                    4.0    7   \n",
              "2                  0                    2                    3.0    7   \n",
              "3                  1                    2                    3.0    7   \n",
              "4                  1                    2                    4.0    7   \n",
              "\n",
              "   Admission_Deposit  Stay  \n",
              "0             3095.0    -1  \n",
              "1             4018.0    -1  \n",
              "2             4492.0    -1  \n",
              "3             4173.0    -1  \n",
              "4             4161.0    -1  "
            ],
            "text/html": [
              "\n",
              "  <div id=\"df-956c1d92-778a-452b-86e2-a2fbf09fe787\">\n",
              "    <div class=\"colab-df-container\">\n",
              "      <div>\n",
              "<style scoped>\n",
              "    .dataframe tbody tr th:only-of-type {\n",
              "        vertical-align: middle;\n",
              "    }\n",
              "\n",
              "    .dataframe tbody tr th {\n",
              "        vertical-align: top;\n",
              "    }\n",
              "\n",
              "    .dataframe thead th {\n",
              "        text-align: right;\n",
              "    }\n",
              "</style>\n",
              "<table border=\"1\" class=\"dataframe\">\n",
              "  <thead>\n",
              "    <tr style=\"text-align: right;\">\n",
              "      <th></th>\n",
              "      <th>case_id</th>\n",
              "      <th>Hospital_code</th>\n",
              "      <th>Hospital_type_code</th>\n",
              "      <th>City_Code_Hospital</th>\n",
              "      <th>Hospital_region_code</th>\n",
              "      <th>Available Extra Rooms in Hospital</th>\n",
              "      <th>Department</th>\n",
              "      <th>Ward_Type</th>\n",
              "      <th>Ward_Facility_Code</th>\n",
              "      <th>Bed Grade</th>\n",
              "      <th>patientid</th>\n",
              "      <th>City_Code_Patient</th>\n",
              "      <th>Type of Admission</th>\n",
              "      <th>Severity of Illness</th>\n",
              "      <th>Visitors with Patient</th>\n",
              "      <th>Age</th>\n",
              "      <th>Admission_Deposit</th>\n",
              "      <th>Stay</th>\n",
              "    </tr>\n",
              "  </thead>\n",
              "  <tbody>\n",
              "    <tr>\n",
              "      <th>0</th>\n",
              "      <td>318439</td>\n",
              "      <td>21</td>\n",
              "      <td>2</td>\n",
              "      <td>3</td>\n",
              "      <td>2</td>\n",
              "      <td>3</td>\n",
              "      <td>2</td>\n",
              "      <td>3</td>\n",
              "      <td>0</td>\n",
              "      <td>2.0</td>\n",
              "      <td>17006.0</td>\n",
              "      <td>2.0</td>\n",
              "      <td>0</td>\n",
              "      <td>2</td>\n",
              "      <td>2.0</td>\n",
              "      <td>7</td>\n",
              "      <td>3095.0</td>\n",
              "      <td>-1</td>\n",
              "    </tr>\n",
              "    <tr>\n",
              "      <th>1</th>\n",
              "      <td>318440</td>\n",
              "      <td>29</td>\n",
              "      <td>0</td>\n",
              "      <td>4</td>\n",
              "      <td>0</td>\n",
              "      <td>2</td>\n",
              "      <td>2</td>\n",
              "      <td>3</td>\n",
              "      <td>5</td>\n",
              "      <td>2.0</td>\n",
              "      <td>17006.0</td>\n",
              "      <td>2.0</td>\n",
              "      <td>1</td>\n",
              "      <td>2</td>\n",
              "      <td>4.0</td>\n",
              "      <td>7</td>\n",
              "      <td>4018.0</td>\n",
              "      <td>-1</td>\n",
              "    </tr>\n",
              "    <tr>\n",
              "      <th>2</th>\n",
              "      <td>318441</td>\n",
              "      <td>26</td>\n",
              "      <td>1</td>\n",
              "      <td>2</td>\n",
              "      <td>1</td>\n",
              "      <td>3</td>\n",
              "      <td>2</td>\n",
              "      <td>1</td>\n",
              "      <td>3</td>\n",
              "      <td>4.0</td>\n",
              "      <td>17006.0</td>\n",
              "      <td>2.0</td>\n",
              "      <td>0</td>\n",
              "      <td>2</td>\n",
              "      <td>3.0</td>\n",
              "      <td>7</td>\n",
              "      <td>4492.0</td>\n",
              "      <td>-1</td>\n",
              "    </tr>\n",
              "    <tr>\n",
              "      <th>3</th>\n",
              "      <td>318442</td>\n",
              "      <td>6</td>\n",
              "      <td>0</td>\n",
              "      <td>6</td>\n",
              "      <td>0</td>\n",
              "      <td>3</td>\n",
              "      <td>2</td>\n",
              "      <td>1</td>\n",
              "      <td>5</td>\n",
              "      <td>2.0</td>\n",
              "      <td>17006.0</td>\n",
              "      <td>2.0</td>\n",
              "      <td>1</td>\n",
              "      <td>2</td>\n",
              "      <td>3.0</td>\n",
              "      <td>7</td>\n",
              "      <td>4173.0</td>\n",
              "      <td>-1</td>\n",
              "    </tr>\n",
              "    <tr>\n",
              "      <th>4</th>\n",
              "      <td>318443</td>\n",
              "      <td>28</td>\n",
              "      <td>1</td>\n",
              "      <td>11</td>\n",
              "      <td>0</td>\n",
              "      <td>2</td>\n",
              "      <td>2</td>\n",
              "      <td>2</td>\n",
              "      <td>5</td>\n",
              "      <td>2.0</td>\n",
              "      <td>17006.0</td>\n",
              "      <td>2.0</td>\n",
              "      <td>1</td>\n",
              "      <td>2</td>\n",
              "      <td>4.0</td>\n",
              "      <td>7</td>\n",
              "      <td>4161.0</td>\n",
              "      <td>-1</td>\n",
              "    </tr>\n",
              "  </tbody>\n",
              "</table>\n",
              "</div>\n",
              "      <button class=\"colab-df-convert\" onclick=\"convertToInteractive('df-956c1d92-778a-452b-86e2-a2fbf09fe787')\"\n",
              "              title=\"Convert this dataframe to an interactive table.\"\n",
              "              style=\"display:none;\">\n",
              "        \n",
              "  <svg xmlns=\"http://www.w3.org/2000/svg\" height=\"24px\"viewBox=\"0 0 24 24\"\n",
              "       width=\"24px\">\n",
              "    <path d=\"M0 0h24v24H0V0z\" fill=\"none\"/>\n",
              "    <path d=\"M18.56 5.44l.94 2.06.94-2.06 2.06-.94-2.06-.94-.94-2.06-.94 2.06-2.06.94zm-11 1L8.5 8.5l.94-2.06 2.06-.94-2.06-.94L8.5 2.5l-.94 2.06-2.06.94zm10 10l.94 2.06.94-2.06 2.06-.94-2.06-.94-.94-2.06-.94 2.06-2.06.94z\"/><path d=\"M17.41 7.96l-1.37-1.37c-.4-.4-.92-.59-1.43-.59-.52 0-1.04.2-1.43.59L10.3 9.45l-7.72 7.72c-.78.78-.78 2.05 0 2.83L4 21.41c.39.39.9.59 1.41.59.51 0 1.02-.2 1.41-.59l7.78-7.78 2.81-2.81c.8-.78.8-2.07 0-2.86zM5.41 20L4 18.59l7.72-7.72 1.47 1.35L5.41 20z\"/>\n",
              "  </svg>\n",
              "      </button>\n",
              "      \n",
              "  <style>\n",
              "    .colab-df-container {\n",
              "      display:flex;\n",
              "      flex-wrap:wrap;\n",
              "      gap: 12px;\n",
              "    }\n",
              "\n",
              "    .colab-df-convert {\n",
              "      background-color: #E8F0FE;\n",
              "      border: none;\n",
              "      border-radius: 50%;\n",
              "      cursor: pointer;\n",
              "      display: none;\n",
              "      fill: #1967D2;\n",
              "      height: 32px;\n",
              "      padding: 0 0 0 0;\n",
              "      width: 32px;\n",
              "    }\n",
              "\n",
              "    .colab-df-convert:hover {\n",
              "      background-color: #E2EBFA;\n",
              "      box-shadow: 0px 1px 2px rgba(60, 64, 67, 0.3), 0px 1px 3px 1px rgba(60, 64, 67, 0.15);\n",
              "      fill: #174EA6;\n",
              "    }\n",
              "\n",
              "    [theme=dark] .colab-df-convert {\n",
              "      background-color: #3B4455;\n",
              "      fill: #D2E3FC;\n",
              "    }\n",
              "\n",
              "    [theme=dark] .colab-df-convert:hover {\n",
              "      background-color: #434B5C;\n",
              "      box-shadow: 0px 1px 3px 1px rgba(0, 0, 0, 0.15);\n",
              "      filter: drop-shadow(0px 1px 2px rgba(0, 0, 0, 0.3));\n",
              "      fill: #FFFFFF;\n",
              "    }\n",
              "  </style>\n",
              "\n",
              "      <script>\n",
              "        const buttonEl =\n",
              "          document.querySelector('#df-956c1d92-778a-452b-86e2-a2fbf09fe787 button.colab-df-convert');\n",
              "        buttonEl.style.display =\n",
              "          google.colab.kernel.accessAllowed ? 'block' : 'none';\n",
              "\n",
              "        async function convertToInteractive(key) {\n",
              "          const element = document.querySelector('#df-956c1d92-778a-452b-86e2-a2fbf09fe787');\n",
              "          const dataTable =\n",
              "            await google.colab.kernel.invokeFunction('convertToInteractive',\n",
              "                                                     [key], {});\n",
              "          if (!dataTable) return;\n",
              "\n",
              "          const docLinkHtml = 'Like what you see? Visit the ' +\n",
              "            '<a target=\"_blank\" href=https://colab.research.google.com/notebooks/data_table.ipynb>data table notebook</a>'\n",
              "            + ' to learn more about interactive tables.';\n",
              "          element.innerHTML = '';\n",
              "          dataTable['output_type'] = 'display_data';\n",
              "          await google.colab.output.renderOutput(dataTable, element);\n",
              "          const docLink = document.createElement('div');\n",
              "          docLink.innerHTML = docLinkHtml;\n",
              "          element.appendChild(docLink);\n",
              "        }\n",
              "      </script>\n",
              "    </div>\n",
              "  </div>\n",
              "  "
            ]
          },
          "metadata": {},
          "execution_count": 24
        }
      ]
    },
    {
      "cell_type": "code",
      "source": [
        "train.shape"
      ],
      "metadata": {
        "colab": {
          "base_uri": "https://localhost:8080/"
        },
        "id": "eVQAeOTit78D",
        "outputId": "ba96492f-e4ba-41be-eb9b-5d4103cffb0d"
      },
      "execution_count": 25,
      "outputs": [
        {
          "output_type": "execute_result",
          "data": {
            "text/plain": [
              "(318438, 18)"
            ]
          },
          "metadata": {},
          "execution_count": 25
        }
      ]
    },
    {
      "cell_type": "code",
      "source": [
        "test.shape"
      ],
      "metadata": {
        "colab": {
          "base_uri": "https://localhost:8080/"
        },
        "id": "c_54hBdat8yP",
        "outputId": "4f36617f-4c11-444d-d79e-56786ef2e0b6"
      },
      "execution_count": 26,
      "outputs": [
        {
          "output_type": "execute_result",
          "data": {
            "text/plain": [
              "(79820, 18)"
            ]
          },
          "metadata": {},
          "execution_count": 26
        }
      ]
    },
    {
      "cell_type": "code",
      "source": [
        "train.info()"
      ],
      "metadata": {
        "colab": {
          "base_uri": "https://localhost:8080/"
        },
        "id": "LtEENvBguA12",
        "outputId": "9c7d836a-76a6-4571-b560-3b804d65392e"
      },
      "execution_count": 27,
      "outputs": [
        {
          "output_type": "stream",
          "name": "stdout",
          "text": [
            "<class 'pandas.core.frame.DataFrame'>\n",
            "Int64Index: 318438 entries, 0 to 318437\n",
            "Data columns (total 18 columns):\n",
            " #   Column                             Non-Null Count   Dtype  \n",
            "---  ------                             --------------   -----  \n",
            " 0   case_id                            318438 non-null  int64  \n",
            " 1   Hospital_code                      318438 non-null  int64  \n",
            " 2   Hospital_type_code                 318438 non-null  int64  \n",
            " 3   City_Code_Hospital                 318438 non-null  int64  \n",
            " 4   Hospital_region_code               318438 non-null  int64  \n",
            " 5   Available Extra Rooms in Hospital  318438 non-null  int64  \n",
            " 6   Department                         318438 non-null  int64  \n",
            " 7   Ward_Type                          318438 non-null  int64  \n",
            " 8   Ward_Facility_Code                 318438 non-null  int64  \n",
            " 9   Bed Grade                          318438 non-null  float64\n",
            " 10  patientid                          318438 non-null  float64\n",
            " 11  City_Code_Patient                  318438 non-null  float64\n",
            " 12  Type of Admission                  318438 non-null  int64  \n",
            " 13  Severity of Illness                318438 non-null  int64  \n",
            " 14  Visitors with Patient              318438 non-null  float64\n",
            " 15  Age                                318438 non-null  int64  \n",
            " 16  Admission_Deposit                  318438 non-null  float64\n",
            " 17  Stay                               318438 non-null  int64  \n",
            "dtypes: float64(5), int64(13)\n",
            "memory usage: 46.2 MB\n"
          ]
        }
      ]
    },
    {
      "cell_type": "code",
      "source": [
        "test.info()"
      ],
      "metadata": {
        "colab": {
          "base_uri": "https://localhost:8080/"
        },
        "id": "NQ2KEWOAuDRo",
        "outputId": "6f282f79-c067-42d5-eb2e-142e04b5e198"
      },
      "execution_count": 28,
      "outputs": [
        {
          "output_type": "stream",
          "name": "stdout",
          "text": [
            "<class 'pandas.core.frame.DataFrame'>\n",
            "Int64Index: 79820 entries, 0 to 79819\n",
            "Data columns (total 18 columns):\n",
            " #   Column                             Non-Null Count  Dtype  \n",
            "---  ------                             --------------  -----  \n",
            " 0   case_id                            79820 non-null  int64  \n",
            " 1   Hospital_code                      79820 non-null  int64  \n",
            " 2   Hospital_type_code                 79820 non-null  int64  \n",
            " 3   City_Code_Hospital                 79820 non-null  int64  \n",
            " 4   Hospital_region_code               79820 non-null  int64  \n",
            " 5   Available Extra Rooms in Hospital  79820 non-null  int64  \n",
            " 6   Department                         79820 non-null  int64  \n",
            " 7   Ward_Type                          79820 non-null  int64  \n",
            " 8   Ward_Facility_Code                 79820 non-null  int64  \n",
            " 9   Bed Grade                          79820 non-null  float64\n",
            " 10  patientid                          79819 non-null  float64\n",
            " 11  City_Code_Patient                  79820 non-null  float64\n",
            " 12  Type of Admission                  79820 non-null  int64  \n",
            " 13  Severity of Illness                79820 non-null  int64  \n",
            " 14  Visitors with Patient              79819 non-null  float64\n",
            " 15  Age                                79820 non-null  int64  \n",
            " 16  Admission_Deposit                  79819 non-null  float64\n",
            " 17  Stay                               79820 non-null  int64  \n",
            "dtypes: float64(5), int64(13)\n",
            "memory usage: 11.6 MB\n"
          ]
        }
      ]
    }
  ]
}